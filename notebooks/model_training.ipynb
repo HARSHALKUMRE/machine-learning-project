{
 "cells": [
  {
   "cell_type": "code",
   "execution_count": 8,
   "metadata": {},
   "outputs": [],
   "source": [
    "from housing.entity.model_factory import ModelFactory, get_sample_model_config_yaml_file\n",
    "import os"
   ]
  },
  {
   "cell_type": "code",
   "execution_count": 9,
   "metadata": {},
   "outputs": [
    {
     "data": {
      "text/plain": [
       "'g:\\\\100-days-of-dl\\\\Krish Naik\\\\FSDS Ineuron Course\\\\projects\\\\machine-learning-project\\\\notebooks'"
      ]
     },
     "execution_count": 9,
     "metadata": {},
     "output_type": "execute_result"
    }
   ],
   "source": [
    "os.getcwd()"
   ]
  },
  {
   "cell_type": "code",
   "execution_count": 5,
   "metadata": {},
   "outputs": [
    {
     "data": {
      "text/plain": [
       "'config\\\\model.yaml'"
      ]
     },
     "execution_count": 5,
     "metadata": {},
     "output_type": "execute_result"
    }
   ],
   "source": [
    "get_sample_model_config_yaml_file(export_dir=\"config\")"
   ]
  },
  {
   "cell_type": "code",
   "execution_count": 2,
   "metadata": {},
   "outputs": [
    {
     "ename": "HousingException",
     "evalue": "\n        Error occured in script: \n        [ g:\\100-days-of-dl\\krish naik\\fsds ineuron course\\projects\\machine-learning-project\\housing\\entity\\model_factory.py ] at \n        try block line number: [161] and exception block line number: [173] \n        error message: [\n        Error occured in script: \n        [ g:\\100-days-of-dl\\krish naik\\fsds ineuron course\\projects\\machine-learning-project\\housing\\entity\\model_factory.py ] at \n        try block line number: [191] and exception block line number: [195] \n        error message: [expected str, bytes or os.PathLike object, not NoneType]\n        ]\n        ",
     "output_type": "error",
     "traceback": [
      "\u001b[1;31m---------------------------------------------------------------------------\u001b[0m",
      "\u001b[1;31mTypeError\u001b[0m                                 Traceback (most recent call last)",
      "File \u001b[1;32mg:\\100-days-of-dl\\krish naik\\fsds ineuron course\\projects\\machine-learning-project\\housing\\entity\\model_factory.py:191\u001b[0m, in \u001b[0;36mModelFactory.read_params\u001b[1;34m(config_path)\u001b[0m\n\u001b[0;32m    190\u001b[0m \u001b[39mtry\u001b[39;00m:\n\u001b[1;32m--> 191\u001b[0m     \u001b[39mwith\u001b[39;00m \u001b[39mopen\u001b[39;49m(config_path) \u001b[39mas\u001b[39;00m yaml_file:\n\u001b[0;32m    192\u001b[0m         config:\u001b[39mdict\u001b[39m \u001b[39m=\u001b[39m yaml\u001b[39m.\u001b[39msafe_load(yaml_file)\n",
      "\u001b[1;31mTypeError\u001b[0m: expected str, bytes or os.PathLike object, not NoneType",
      "\nThe above exception was the direct cause of the following exception:\n",
      "\u001b[1;31mHousingException\u001b[0m                          Traceback (most recent call last)",
      "File \u001b[1;32mg:\\100-days-of-dl\\krish naik\\fsds ineuron course\\projects\\machine-learning-project\\housing\\entity\\model_factory.py:161\u001b[0m, in \u001b[0;36mModelFactory.__init__\u001b[1;34m(self, model_config_path)\u001b[0m\n\u001b[0;32m    160\u001b[0m \u001b[39mtry\u001b[39;00m:\n\u001b[1;32m--> 161\u001b[0m     \u001b[39mself\u001b[39m\u001b[39m.\u001b[39mconfig: \u001b[39mdict\u001b[39m \u001b[39m=\u001b[39m ModelFactory\u001b[39m.\u001b[39;49mread_params(model_config_path)\n\u001b[0;32m    163\u001b[0m     \u001b[39mself\u001b[39m\u001b[39m.\u001b[39mgrid_search_cv_module: \u001b[39mstr\u001b[39m \u001b[39m=\u001b[39m \u001b[39mself\u001b[39m\u001b[39m.\u001b[39mconfig[GRID_SEARCH_KEY][MODULE_KEY]\n",
      "File \u001b[1;32mg:\\100-days-of-dl\\krish naik\\fsds ineuron course\\projects\\machine-learning-project\\housing\\entity\\model_factory.py:195\u001b[0m, in \u001b[0;36mModelFactory.read_params\u001b[1;34m(config_path)\u001b[0m\n\u001b[0;32m    194\u001b[0m \u001b[39mexcept\u001b[39;00m \u001b[39mException\u001b[39;00m \u001b[39mas\u001b[39;00m e:\n\u001b[1;32m--> 195\u001b[0m     \u001b[39mraise\u001b[39;00m HousingException(e, sys) \u001b[39mfrom\u001b[39;00m \u001b[39me\u001b[39;00m\n",
      "\u001b[1;31mHousingException\u001b[0m: \n        Error occured in script: \n        [ g:\\100-days-of-dl\\krish naik\\fsds ineuron course\\projects\\machine-learning-project\\housing\\entity\\model_factory.py ] at \n        try block line number: [191] and exception block line number: [195] \n        error message: [expected str, bytes or os.PathLike object, not NoneType]\n        ",
      "\nThe above exception was the direct cause of the following exception:\n",
      "\u001b[1;31mHousingException\u001b[0m                          Traceback (most recent call last)",
      "Cell \u001b[1;32mIn[2], line 1\u001b[0m\n\u001b[1;32m----> 1\u001b[0m model_factory \u001b[39m=\u001b[39m ModelFactory()\n",
      "File \u001b[1;32mg:\\100-days-of-dl\\krish naik\\fsds ineuron course\\projects\\machine-learning-project\\housing\\entity\\model_factory.py:173\u001b[0m, in \u001b[0;36mModelFactory.__init__\u001b[1;34m(self, model_config_path)\u001b[0m\n\u001b[0;32m    170\u001b[0m     \u001b[39mself\u001b[39m\u001b[39m.\u001b[39mgrid_searched_best_model_list \u001b[39m=\u001b[39m \u001b[39mNone\u001b[39;00m\n\u001b[0;32m    172\u001b[0m \u001b[39mexcept\u001b[39;00m \u001b[39mException\u001b[39;00m \u001b[39mas\u001b[39;00m e:\n\u001b[1;32m--> 173\u001b[0m     \u001b[39mraise\u001b[39;00m HousingException(e, sys) \u001b[39mfrom\u001b[39;00m \u001b[39me\u001b[39;00m\n",
      "\u001b[1;31mHousingException\u001b[0m: \n        Error occured in script: \n        [ g:\\100-days-of-dl\\krish naik\\fsds ineuron course\\projects\\machine-learning-project\\housing\\entity\\model_factory.py ] at \n        try block line number: [161] and exception block line number: [173] \n        error message: [\n        Error occured in script: \n        [ g:\\100-days-of-dl\\krish naik\\fsds ineuron course\\projects\\machine-learning-project\\housing\\entity\\model_factory.py ] at \n        try block line number: [191] and exception block line number: [195] \n        error message: [expected str, bytes or os.PathLike object, not NoneType]\n        ]\n        "
     ]
    }
   ],
   "source": [
    "model_factory = ModelFactory()"
   ]
  },
  {
   "cell_type": "code",
   "execution_count": null,
   "metadata": {},
   "outputs": [],
   "source": []
  }
 ],
 "metadata": {
  "kernelspec": {
   "display_name": "Python 3",
   "language": "python",
   "name": "python3"
  },
  "language_info": {
   "codemirror_mode": {
    "name": "ipython",
    "version": 3
   },
   "file_extension": ".py",
   "mimetype": "text/x-python",
   "name": "python",
   "nbconvert_exporter": "python",
   "pygments_lexer": "ipython3",
   "version": "3.8.0"
  },
  "orig_nbformat": 4,
  "vscode": {
   "interpreter": {
    "hash": "271d183bc82b456735400e2a75d0a4ffc146a99535a1f67d38c05ad7cb69f3eb"
   }
  }
 },
 "nbformat": 4,
 "nbformat_minor": 2
}
